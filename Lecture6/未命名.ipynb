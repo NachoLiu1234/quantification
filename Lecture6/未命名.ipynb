{
 "cells": [
  {
   "cell_type": "code",
   "execution_count": 9,
   "metadata": {},
   "outputs": [],
   "source": [
    "import pandas as pd\n",
    "import datetime\n",
    "from functools import reduce"
   ]
  },
  {
   "cell_type": "code",
   "execution_count": 2,
   "metadata": {},
   "outputs": [],
   "source": [
    "def get_trade_time():\n",
    "    \"\"\" \n",
    "    Return trade datettime\n",
    "    \"\"\"\n",
    "    morning_trade_start_datetime = '09:30:00'\n",
    "    morning_trade_end_datetime = '11:30:00'\n",
    "    afternoon_trade_start_datetime = '13:00:00'\n",
    "    afternoon_trade_end_datetime = '15:30:00'\n",
    "    \n",
    "    return (morning_trade_start_datetime, morning_trade_end_datetime, afternoon_trade_start_datetime,\n",
    "    afternoon_trade_end_datetime)"
   ]
  },
  {
   "cell_type": "code",
   "execution_count": 3,
   "metadata": {},
   "outputs": [],
   "source": [
    "def raw2tick(df):\n",
    "    \"\"\"\n",
    "    处理原始数据：  \n",
    "    - 同1秒只出现一次的数据，当成第0.5s数据处理\n",
    "    - 交易时间过滤\n",
    "    \"\"\"\n",
    "\n",
    "    # `Time`与下一个tick数据不同，则为第0.5s数据\n",
    "    # 同1秒有两条数据时 -> 第二条数据\n",
    "    # 同1秒只有一条数据 \n",
    "    df['datetime'] = pd.to_datetime(df.Time)\n",
    "    latter_indices = (df.Time != df.Time.shift(-1)) & df.datetime.map(lambda x: x.microsecond == 0)\n",
    "    df.loc[latter_indices, 'datetime'] += datetime.timedelta(seconds=0.5)\n",
    "\n",
    "    t = pd.to_timedelta(get_trade_time())\n",
    "    ranges = list(zip(t[0::2], t[1::2]))\n",
    "    def in_trade_time(x):\n",
    "        x= datetime.timedelta(hours=x.hour, minutes=x.minute, seconds=x.second, microseconds=x.microsecond)\n",
    "        return any(map(lambda r: r[0] <= x <= r[1], ranges))\n",
    "\n",
    "    df = df[df.datetime.map(in_trade_time)]\n",
    "    df.index = df.datetime\n",
    "\n",
    "    return df"
   ]
  },
  {
   "cell_type": "code",
   "execution_count": 4,
   "metadata": {},
   "outputs": [],
   "source": [
    "def tick2min(df):\n",
    "    resampler = df.resample('1min', closed='right', label='left')\n",
    "    df = resampler.LastClose.ohlc()\n",
    "    return df"
   ]
  },
  {
   "cell_type": "code",
   "execution_count": 5,
   "metadata": {},
   "outputs": [],
   "source": [
    "def raw2min(df):\n",
    "    df = raw2tick(df)\n",
    "    df = tick2min(df)\n",
    "    return df"
   ]
  },
  {
   "cell_type": "code",
   "execution_count": 6,
   "metadata": {},
   "outputs": [
    {
     "name": "stdout",
     "output_type": "stream",
     "text": [
      "TimedeltaIndex(['09:30:00', '11:30:00', '13:00:00', '15:30:00'], dtype='timedelta64[ns]', freq=None)\n",
      "[(Timedelta('0 days 09:30:00'), Timedelta('0 days 11:30:00')), (Timedelta('0 days 13:00:00'), Timedelta('0 days 15:30:00'))]\n"
     ]
    }
   ],
   "source": [
    "t = pd.to_timedelta(get_trade_time())\n",
    "print(t)\n",
    "ranges = list(zip(t[0::2], t[1::2]))\n",
    "print(ranges)"
   ]
  },
  {
   "cell_type": "code",
   "execution_count": null,
   "metadata": {},
   "outputs": [],
   "source": []
  }
 ],
 "metadata": {
  "kernelspec": {
   "display_name": "Python 3",
   "language": "python",
   "name": "python3"
  },
  "language_info": {
   "codemirror_mode": {
    "name": "ipython",
    "version": 3
   },
   "file_extension": ".py",
   "mimetype": "text/x-python",
   "name": "python",
   "nbconvert_exporter": "python",
   "pygments_lexer": "ipython3",
   "version": "3.6.8"
  }
 },
 "nbformat": 4,
 "nbformat_minor": 4
}
