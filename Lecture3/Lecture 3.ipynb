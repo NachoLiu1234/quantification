{
 "cells": [
  {
   "cell_type": "markdown",
   "metadata": {},
   "source": [
    "## Vectorozied Backtester"
   ]
  },
  {
   "cell_type": "code",
   "execution_count": 2,
   "metadata": {},
   "outputs": [],
   "source": [
    "import pandas as pd\n",
    "import numpy as np"
   ]
  },
  {
   "cell_type": "code",
   "execution_count": 5,
   "metadata": {
    "scrolled": true
   },
   "outputs": [
    {
     "data": {
      "text/html": [
       "<div>\n",
       "<style scoped>\n",
       "    .dataframe tbody tr th:only-of-type {\n",
       "        vertical-align: middle;\n",
       "    }\n",
       "\n",
       "    .dataframe tbody tr th {\n",
       "        vertical-align: top;\n",
       "    }\n",
       "\n",
       "    .dataframe thead th {\n",
       "        text-align: right;\n",
       "    }\n",
       "</style>\n",
       "<table border=\"1\" class=\"dataframe\">\n",
       "  <thead>\n",
       "    <tr style=\"text-align: right;\">\n",
       "      <th></th>\n",
       "      <th>close</th>\n",
       "    </tr>\n",
       "    <tr>\n",
       "      <th>datetime</th>\n",
       "      <th></th>\n",
       "    </tr>\n",
       "  </thead>\n",
       "  <tbody>\n",
       "    <tr>\n",
       "      <th>11/30/18 21:00</th>\n",
       "      <td>3241</td>\n",
       "    </tr>\n",
       "    <tr>\n",
       "      <th>11/30/18 21:01</th>\n",
       "      <td>3244</td>\n",
       "    </tr>\n",
       "    <tr>\n",
       "      <th>11/30/18 21:02</th>\n",
       "      <td>3241</td>\n",
       "    </tr>\n",
       "    <tr>\n",
       "      <th>11/30/18 21:03</th>\n",
       "      <td>3243</td>\n",
       "    </tr>\n",
       "    <tr>\n",
       "      <th>11/30/18 21:04</th>\n",
       "      <td>3243</td>\n",
       "    </tr>\n",
       "    <tr>\n",
       "      <th>11/30/18 21:05</th>\n",
       "      <td>3237</td>\n",
       "    </tr>\n",
       "    <tr>\n",
       "      <th>11/30/18 21:06</th>\n",
       "      <td>3236</td>\n",
       "    </tr>\n",
       "    <tr>\n",
       "      <th>11/30/18 21:07</th>\n",
       "      <td>3227</td>\n",
       "    </tr>\n",
       "    <tr>\n",
       "      <th>11/30/18 21:08</th>\n",
       "      <td>3229</td>\n",
       "    </tr>\n",
       "    <tr>\n",
       "      <th>11/30/18 21:09</th>\n",
       "      <td>3231</td>\n",
       "    </tr>\n",
       "    <tr>\n",
       "      <th>11/30/18 21:10</th>\n",
       "      <td>3222</td>\n",
       "    </tr>\n",
       "    <tr>\n",
       "      <th>11/30/18 21:11</th>\n",
       "      <td>3227</td>\n",
       "    </tr>\n",
       "    <tr>\n",
       "      <th>11/30/18 21:12</th>\n",
       "      <td>3226</td>\n",
       "    </tr>\n",
       "    <tr>\n",
       "      <th>11/30/18 21:13</th>\n",
       "      <td>3226</td>\n",
       "    </tr>\n",
       "    <tr>\n",
       "      <th>11/30/18 21:14</th>\n",
       "      <td>3226</td>\n",
       "    </tr>\n",
       "    <tr>\n",
       "      <th>11/30/18 21:15</th>\n",
       "      <td>3231</td>\n",
       "    </tr>\n",
       "    <tr>\n",
       "      <th>11/30/18 21:16</th>\n",
       "      <td>3228</td>\n",
       "    </tr>\n",
       "    <tr>\n",
       "      <th>11/30/18 21:17</th>\n",
       "      <td>3231</td>\n",
       "    </tr>\n",
       "    <tr>\n",
       "      <th>11/30/18 21:18</th>\n",
       "      <td>3233</td>\n",
       "    </tr>\n",
       "    <tr>\n",
       "      <th>11/30/18 21:19</th>\n",
       "      <td>3233</td>\n",
       "    </tr>\n",
       "    <tr>\n",
       "      <th>11/30/18 21:20</th>\n",
       "      <td>3228</td>\n",
       "    </tr>\n",
       "    <tr>\n",
       "      <th>11/30/18 21:21</th>\n",
       "      <td>3232</td>\n",
       "    </tr>\n",
       "    <tr>\n",
       "      <th>11/30/18 21:22</th>\n",
       "      <td>3230</td>\n",
       "    </tr>\n",
       "    <tr>\n",
       "      <th>11/30/18 21:23</th>\n",
       "      <td>3228</td>\n",
       "    </tr>\n",
       "    <tr>\n",
       "      <th>11/30/18 21:24</th>\n",
       "      <td>3229</td>\n",
       "    </tr>\n",
       "    <tr>\n",
       "      <th>11/30/18 21:25</th>\n",
       "      <td>3226</td>\n",
       "    </tr>\n",
       "    <tr>\n",
       "      <th>11/30/18 21:26</th>\n",
       "      <td>3227</td>\n",
       "    </tr>\n",
       "    <tr>\n",
       "      <th>11/30/18 21:27</th>\n",
       "      <td>3225</td>\n",
       "    </tr>\n",
       "    <tr>\n",
       "      <th>11/30/18 21:28</th>\n",
       "      <td>3228</td>\n",
       "    </tr>\n",
       "    <tr>\n",
       "      <th>11/30/18 21:29</th>\n",
       "      <td>3224</td>\n",
       "    </tr>\n",
       "    <tr>\n",
       "      <th>...</th>\n",
       "      <td>...</td>\n",
       "    </tr>\n",
       "    <tr>\n",
       "      <th>2012/7/18 14:30</th>\n",
       "      <td>3420</td>\n",
       "    </tr>\n",
       "    <tr>\n",
       "      <th>2012/7/18 14:31</th>\n",
       "      <td>3419</td>\n",
       "    </tr>\n",
       "    <tr>\n",
       "      <th>2012/7/18 14:32</th>\n",
       "      <td>3414</td>\n",
       "    </tr>\n",
       "    <tr>\n",
       "      <th>2012/7/18 14:33</th>\n",
       "      <td>3416</td>\n",
       "    </tr>\n",
       "    <tr>\n",
       "      <th>2012/7/18 14:34</th>\n",
       "      <td>3416</td>\n",
       "    </tr>\n",
       "    <tr>\n",
       "      <th>2012/7/18 14:35</th>\n",
       "      <td>3415</td>\n",
       "    </tr>\n",
       "    <tr>\n",
       "      <th>2012/7/18 14:36</th>\n",
       "      <td>3413</td>\n",
       "    </tr>\n",
       "    <tr>\n",
       "      <th>2012/7/18 14:37</th>\n",
       "      <td>3411</td>\n",
       "    </tr>\n",
       "    <tr>\n",
       "      <th>2012/7/18 14:38</th>\n",
       "      <td>3409</td>\n",
       "    </tr>\n",
       "    <tr>\n",
       "      <th>2012/7/18 14:39</th>\n",
       "      <td>3407</td>\n",
       "    </tr>\n",
       "    <tr>\n",
       "      <th>2012/7/18 14:40</th>\n",
       "      <td>3402</td>\n",
       "    </tr>\n",
       "    <tr>\n",
       "      <th>2012/7/18 14:41</th>\n",
       "      <td>3406</td>\n",
       "    </tr>\n",
       "    <tr>\n",
       "      <th>2012/7/18 14:42</th>\n",
       "      <td>3409</td>\n",
       "    </tr>\n",
       "    <tr>\n",
       "      <th>2012/7/18 14:43</th>\n",
       "      <td>3409</td>\n",
       "    </tr>\n",
       "    <tr>\n",
       "      <th>2012/7/18 14:44</th>\n",
       "      <td>3407</td>\n",
       "    </tr>\n",
       "    <tr>\n",
       "      <th>2012/7/18 14:45</th>\n",
       "      <td>3412</td>\n",
       "    </tr>\n",
       "    <tr>\n",
       "      <th>2012/7/18 14:46</th>\n",
       "      <td>3412</td>\n",
       "    </tr>\n",
       "    <tr>\n",
       "      <th>2012/7/18 14:47</th>\n",
       "      <td>3411</td>\n",
       "    </tr>\n",
       "    <tr>\n",
       "      <th>2012/7/18 14:48</th>\n",
       "      <td>3412</td>\n",
       "    </tr>\n",
       "    <tr>\n",
       "      <th>2012/7/18 14:49</th>\n",
       "      <td>3411</td>\n",
       "    </tr>\n",
       "    <tr>\n",
       "      <th>2012/7/18 14:50</th>\n",
       "      <td>3406</td>\n",
       "    </tr>\n",
       "    <tr>\n",
       "      <th>2012/7/18 14:51</th>\n",
       "      <td>3406</td>\n",
       "    </tr>\n",
       "    <tr>\n",
       "      <th>2012/7/18 14:52</th>\n",
       "      <td>3406</td>\n",
       "    </tr>\n",
       "    <tr>\n",
       "      <th>2012/7/18 14:53</th>\n",
       "      <td>3404</td>\n",
       "    </tr>\n",
       "    <tr>\n",
       "      <th>2012/7/18 14:54</th>\n",
       "      <td>3403</td>\n",
       "    </tr>\n",
       "    <tr>\n",
       "      <th>2012/7/18 14:55</th>\n",
       "      <td>3408</td>\n",
       "    </tr>\n",
       "    <tr>\n",
       "      <th>2012/7/18 14:56</th>\n",
       "      <td>3409</td>\n",
       "    </tr>\n",
       "    <tr>\n",
       "      <th>2012/7/18 14:57</th>\n",
       "      <td>3411</td>\n",
       "    </tr>\n",
       "    <tr>\n",
       "      <th>2012/7/18 14:58</th>\n",
       "      <td>3406</td>\n",
       "    </tr>\n",
       "    <tr>\n",
       "      <th>2012/7/18 14:59</th>\n",
       "      <td>3396</td>\n",
       "    </tr>\n",
       "  </tbody>\n",
       "</table>\n",
       "<p>1035 rows × 1 columns</p>\n",
       "</div>"
      ],
      "text/plain": [
       "                 close\n",
       "datetime              \n",
       "11/30/18 21:00    3241\n",
       "11/30/18 21:01    3244\n",
       "11/30/18 21:02    3241\n",
       "11/30/18 21:03    3243\n",
       "11/30/18 21:04    3243\n",
       "11/30/18 21:05    3237\n",
       "11/30/18 21:06    3236\n",
       "11/30/18 21:07    3227\n",
       "11/30/18 21:08    3229\n",
       "11/30/18 21:09    3231\n",
       "11/30/18 21:10    3222\n",
       "11/30/18 21:11    3227\n",
       "11/30/18 21:12    3226\n",
       "11/30/18 21:13    3226\n",
       "11/30/18 21:14    3226\n",
       "11/30/18 21:15    3231\n",
       "11/30/18 21:16    3228\n",
       "11/30/18 21:17    3231\n",
       "11/30/18 21:18    3233\n",
       "11/30/18 21:19    3233\n",
       "11/30/18 21:20    3228\n",
       "11/30/18 21:21    3232\n",
       "11/30/18 21:22    3230\n",
       "11/30/18 21:23    3228\n",
       "11/30/18 21:24    3229\n",
       "11/30/18 21:25    3226\n",
       "11/30/18 21:26    3227\n",
       "11/30/18 21:27    3225\n",
       "11/30/18 21:28    3228\n",
       "11/30/18 21:29    3224\n",
       "...                ...\n",
       "2012/7/18 14:30   3420\n",
       "2012/7/18 14:31   3419\n",
       "2012/7/18 14:32   3414\n",
       "2012/7/18 14:33   3416\n",
       "2012/7/18 14:34   3416\n",
       "2012/7/18 14:35   3415\n",
       "2012/7/18 14:36   3413\n",
       "2012/7/18 14:37   3411\n",
       "2012/7/18 14:38   3409\n",
       "2012/7/18 14:39   3407\n",
       "2012/7/18 14:40   3402\n",
       "2012/7/18 14:41   3406\n",
       "2012/7/18 14:42   3409\n",
       "2012/7/18 14:43   3409\n",
       "2012/7/18 14:44   3407\n",
       "2012/7/18 14:45   3412\n",
       "2012/7/18 14:46   3412\n",
       "2012/7/18 14:47   3411\n",
       "2012/7/18 14:48   3412\n",
       "2012/7/18 14:49   3411\n",
       "2012/7/18 14:50   3406\n",
       "2012/7/18 14:51   3406\n",
       "2012/7/18 14:52   3406\n",
       "2012/7/18 14:53   3404\n",
       "2012/7/18 14:54   3403\n",
       "2012/7/18 14:55   3408\n",
       "2012/7/18 14:56   3409\n",
       "2012/7/18 14:57   3411\n",
       "2012/7/18 14:58   3406\n",
       "2012/7/18 14:59   3396\n",
       "\n",
       "[1035 rows x 1 columns]"
      ]
     },
     "execution_count": 5,
     "metadata": {},
     "output_type": "execute_result"
    }
   ],
   "source": [
    "df = pd.read_csv('data/rb.csv').set_index('datetime')\n",
    "for column in set(df.columns) - {'close'}:\n",
    "    del df[column]\n",
    "df"
   ]
  },
  {
   "cell_type": "code",
   "execution_count": 6,
   "metadata": {},
   "outputs": [
    {
     "data": {
      "text/plain": [
       "1035"
      ]
     },
     "execution_count": 6,
     "metadata": {},
     "output_type": "execute_result"
    }
   ],
   "source": [
    "len(df)"
   ]
  },
  {
   "cell_type": "code",
   "execution_count": 36,
   "metadata": {
    "scrolled": true
   },
   "outputs": [],
   "source": [
    "initial_capital = 1e4\n",
    "# Calculate moving average\n",
    "df['MA5'] = df['close'].rolling(5).mean()\n",
    "df['MA20'] = df['close'].rolling(20).mean()\n",
    "# Generate position by comparing MA5 and MA20\n",
    "df['Position'] = [-1 if not el else 1 for el in df['MA5'] >= df['MA20']]\n",
    "# Calculate Trade and Position P&L\n",
    "df['TradeP&L'] = [0 for _ in range(20)] + list((np.array(df['Position'][19:-1]) - np.array(df['Position'][20:])) * 10 * (np.array(df['close'][20:]) - np.array(df['close'][19:-1])))\n",
    "df['PositionP&L'] = [0 for _ in range(19)] + list(np.array(df['Position'][19:]) * 10 * (np.array(df['close'][19:]) - np.array(df['close'][18:-1])))\n",
    "\n",
    "df['CumP&L'] = df['TradeP&L'] + df['PositionP&L']\n",
    "def cum(a):\n",
    "    return sum(a)\n",
    "df['CumP&L'] = df['CumP&L'].cumsum()\n",
    "\n",
    "df['Capital'] = 10000 + df['CumP&L']\n",
    "# Calculate returns \n",
    "df['Return'] = [0] + list((np.array(df['Capital'][1:]) - np.array(df['Capital'][:-1])) / np.array(df['Capital'][:-1]))\n",
    "# Method1: calculate NAV by multiplication of returns\n",
    "df['NetAssetValue'] = (1 + df['Return']).cumprod()\n",
    "\n",
    "# Method2: calculate NAV by divide by initial capital\n",
    "df['NetAssetValue2'] = df['Capital'] / 10000\n"
   ]
  },
  {
   "cell_type": "code",
   "execution_count": 44,
   "metadata": {},
   "outputs": [
    {
     "ename": "ValueError",
     "evalue": "Can only compare identically-labeled DataFrame objects",
     "output_type": "error",
     "traceback": [
      "\u001b[1;31m---------------------------------------------------------------------------\u001b[0m",
      "\u001b[1;31mValueError\u001b[0m                                Traceback (most recent call last)",
      "\u001b[1;32m<ipython-input-44-189097f9408d>\u001b[0m in \u001b[0;36m<module>\u001b[1;34m\u001b[0m\n\u001b[0;32m      1\u001b[0m \u001b[0mdf2\u001b[0m \u001b[1;33m=\u001b[0m \u001b[0mpd\u001b[0m\u001b[1;33m.\u001b[0m\u001b[0mread_csv\u001b[0m\u001b[1;33m(\u001b[0m\u001b[1;34m'data/NaiveExcelBacktester.csv'\u001b[0m\u001b[1;33m)\u001b[0m\u001b[1;33m.\u001b[0m\u001b[0mset_index\u001b[0m\u001b[1;33m(\u001b[0m\u001b[1;34m'datetime'\u001b[0m\u001b[1;33m)\u001b[0m\u001b[1;33m.\u001b[0m\u001b[0mdrop\u001b[0m\u001b[1;33m(\u001b[0m\u001b[0mcolumns\u001b[0m\u001b[1;33m=\u001b[0m\u001b[1;33m[\u001b[0m\u001b[1;34m'MA5 >= MA20'\u001b[0m\u001b[1;33m]\u001b[0m\u001b[1;33m)\u001b[0m\u001b[1;33m\u001b[0m\u001b[1;33m\u001b[0m\u001b[0m\n\u001b[1;32m----> 2\u001b[1;33m \u001b[0mdf\u001b[0m\u001b[1;33m.\u001b[0m\u001b[0msqueeze\u001b[0m\u001b[1;33m(\u001b[0m\u001b[1;33m)\u001b[0m \u001b[1;33m==\u001b[0m \u001b[0mdf2\u001b[0m\u001b[1;33m.\u001b[0m\u001b[0msqueeze\u001b[0m\u001b[1;33m(\u001b[0m\u001b[1;33m)\u001b[0m\u001b[1;33m\u001b[0m\u001b[1;33m\u001b[0m\u001b[0m\n\u001b[0m",
      "\u001b[1;32mC:\\Anaconda3\\lib\\site-packages\\pandas\\core\\ops.py\u001b[0m in \u001b[0;36mf\u001b[1;34m(self, other)\u001b[0m\n\u001b[0;32m   2094\u001b[0m             \u001b[1;31m# Another DataFrame\u001b[0m\u001b[1;33m\u001b[0m\u001b[1;33m\u001b[0m\u001b[1;33m\u001b[0m\u001b[0m\n\u001b[0;32m   2095\u001b[0m             \u001b[1;32mif\u001b[0m \u001b[1;32mnot\u001b[0m \u001b[0mself\u001b[0m\u001b[1;33m.\u001b[0m\u001b[0m_indexed_same\u001b[0m\u001b[1;33m(\u001b[0m\u001b[0mother\u001b[0m\u001b[1;33m)\u001b[0m\u001b[1;33m:\u001b[0m\u001b[1;33m\u001b[0m\u001b[1;33m\u001b[0m\u001b[0m\n\u001b[1;32m-> 2096\u001b[1;33m                 raise ValueError('Can only compare identically-labeled '\n\u001b[0m\u001b[0;32m   2097\u001b[0m                                  'DataFrame objects')\n\u001b[0;32m   2098\u001b[0m             \u001b[1;32mreturn\u001b[0m \u001b[0mdispatch_to_series\u001b[0m\u001b[1;33m(\u001b[0m\u001b[0mself\u001b[0m\u001b[1;33m,\u001b[0m \u001b[0mother\u001b[0m\u001b[1;33m,\u001b[0m \u001b[0mfunc\u001b[0m\u001b[1;33m,\u001b[0m \u001b[0mstr_rep\u001b[0m\u001b[1;33m)\u001b[0m\u001b[1;33m\u001b[0m\u001b[1;33m\u001b[0m\u001b[0m\n",
      "\u001b[1;31mValueError\u001b[0m: Can only compare identically-labeled DataFrame objects"
     ]
    }
   ],
   "source": [
    "df2 = pd.read_csv('data/NaiveExcelBacktester.csv').set_index('datetime').drop(columns=['MA5 >= MA20'])\n",
    "df == df2"
   ]
  },
  {
   "cell_type": "code",
   "execution_count": 51,
   "metadata": {},
   "outputs": [],
   "source": [
    "class DataHandler:\n",
    "    def __init__(self, start_date, end_date, symbol, contract):\n",
    "        self.start_date = start_date\n",
    "        self.end_date = end_date\n",
    "        self.symbol = symbol\n",
    "        self.contract = contract\n",
    "\n",
    "    def load(self):\n",
    "        \"\"\"Load data\n",
    "        Multiple csv file, append them\n",
    "        \"\"\"\n",
    "        return df\n",
    "        "
   ]
  },
  {
   "cell_type": "code",
   "execution_count": 57,
   "metadata": {},
   "outputs": [],
   "source": [
    "from abc import ABCMeta, abstractmethod\n",
    "\n",
    "class BackTest:\n",
    "    __metaclass__ = ABCMeta\n",
    "\n",
    "    def __init__(self, symbol, data=None):\n",
    "        self.data = data.copy()  # use copy method to reduce times of loading data file\n",
    "        self.df = pd.DataFrame(index=data.index, columns=['close', 'signal', 'position'])\n",
    "        self.symbol = symbol\n",
    "        self.df.close = self.data.close\n",
    "\n",
    "    @abstractmethod\n",
    "    def generate_signal(self):\n",
    "        raise NotImplementedError('Should implement generate signal method!')\n",
    "\n",
    "    def get_commission_rate(self):\n",
    "        return 0.0001\n",
    "\n",
    "    def get_multiplier(self):\n",
    "        multiplier_dict = {'rb': 10}\n",
    "        return multiplier_dict[self.symbol]\n",
    "\n",
    "    def generate_position(self):\n",
    "        self.df.loc[self.df.signal >= 0, 'position'] = 1\n",
    "        self.df.loc[self.df.signal < 0, 'position'] = -1\n",
    "#         self.df.loc[self.df.signal == 0, 'position'] = 0\n",
    "\n",
    "    def calculate_performance(self):\n",
    "        self.generate_position()  # default 0 -1 1 can be set in other format\n",
    "\n",
    "        commission_rate = self.get_commission_rate()\n",
    "        multiplier = self.get_multiplier()\n",
    "\n",
    "        self.df.position = self.df.position.shift().fillna(0)  # shift position\n",
    "        self.df['trade'] = (self.df.position - self.df.position.shift()).fillna(0)\n",
    "\n",
    "        # limit up and down happends if and only if ask==bid\n",
    "        # tag as bad bar if it happens at bar open or close\n",
    "        good_bar = (self.data.open_bid_price1 < self.data.open_ask_price1) & (\n",
    "                    self.data.close_bid_price1 < self.data.close_ask_price1)\n",
    "        good_buy = (self.df.trade > 0) & good_bar\n",
    "        good_sell = (self.df.trade < 0) & good_bar\n",
    "        bad_buy_or_sell = (self.df.trade != 0) & ((self.data.close_bid_price1 == self.data.close_ask_price1) | (\n",
    "            self.data.open_bid_price1 == self.data.open_ask_price1))\n",
    "\n",
    "        self.df.loc[bad_buy_or_sell, 'tradeprice'] = self.data.loc[bad_buy_or_sell, 'close']\n",
    "        self.df.loc[good_buy, 'tradeprice'] = self.data.loc[good_buy, 'open_ask_price1']\n",
    "        self.df.loc[good_sell, 'tradeprice'] = self.data.loc[good_sell, 'open_bid_price1']\n",
    "\n",
    "        self.df['tradepnl'] = (self.df['position'] - self.df['position'].shift(1).fillna(0)) * 10 * (self.df['close'].shift(1).fillna(0) - self.df['close'])\n",
    "        self.df['pospnl'] = self.df['position'] * multiplier * (self.df['close'].shift(1).fillna(0) - self.df['close'])\n",
    "        self.df['barpnl'] = self.df.pospnl + self.df.tradepnl\n",
    "        self.df['cumpnl'] = self.df.barpnl.cumsum()"
   ]
  },
  {
   "cell_type": "code",
   "execution_count": 58,
   "metadata": {},
   "outputs": [],
   "source": [
    "class NaiveMA(BackTest):\n",
    "    def __init__(self, symbol, data):\n",
    "        super(NaiveMA, self).__init__(symbol, data)\n",
    "    \n",
    "    def generate_signal(self):\n",
    "        \"\"\" Your code here\n",
    "        \"\"\"\n",
    "        df = self.df\n",
    "        df['MA5'] = df['close'].rolling(5).mean()\n",
    "        df['MA20'] = df['close'].rolling(20).mean()\n",
    "        df['signal'] = [-1 if not el else 1 for el in df['MA5'] >= df['MA20']]\n"
   ]
  },
  {
   "cell_type": "code",
   "execution_count": 59,
   "metadata": {},
   "outputs": [
    {
     "ename": "TypeError",
     "evalue": "__init__() missing 3 required positional arguments: 'end_date', 'symbol', and 'contract'",
     "output_type": "error",
     "traceback": [
      "\u001b[1;31m---------------------------------------------------------------------------\u001b[0m",
      "\u001b[1;31mTypeError\u001b[0m                                 Traceback (most recent call last)",
      "\u001b[1;32m<ipython-input-59-6b9930fc2b4a>\u001b[0m in \u001b[0;36m<module>\u001b[1;34m\u001b[0m\n\u001b[1;32m----> 1\u001b[1;33m \u001b[0mdata_handler\u001b[0m \u001b[1;33m=\u001b[0m \u001b[0mDataHandler\u001b[0m\u001b[1;33m(\u001b[0m\u001b[1;33m...\u001b[0m\u001b[1;33m)\u001b[0m\u001b[1;33m\u001b[0m\u001b[1;33m\u001b[0m\u001b[0m\n\u001b[0m\u001b[0;32m      2\u001b[0m \u001b[0mdata\u001b[0m \u001b[1;33m=\u001b[0m \u001b[0mdata_handler\u001b[0m\u001b[1;33m.\u001b[0m\u001b[0mload\u001b[0m\u001b[1;33m(\u001b[0m\u001b[1;33m)\u001b[0m\u001b[1;33m\u001b[0m\u001b[1;33m\u001b[0m\u001b[0m\n\u001b[0;32m      3\u001b[0m \u001b[0mmoving_average_test\u001b[0m \u001b[1;33m=\u001b[0m \u001b[0mNaiveMA\u001b[0m\u001b[1;33m(\u001b[0m\u001b[1;34m'rb'\u001b[0m\u001b[1;33m,\u001b[0m \u001b[0mdata\u001b[0m\u001b[1;33m)\u001b[0m\u001b[1;33m\u001b[0m\u001b[1;33m\u001b[0m\u001b[0m\n\u001b[0;32m      4\u001b[0m \u001b[0mmoving_average_test\u001b[0m\u001b[1;33m.\u001b[0m\u001b[0mcalculate_performance\u001b[0m\u001b[1;33m(\u001b[0m\u001b[1;33m)\u001b[0m\u001b[1;33m\u001b[0m\u001b[1;33m\u001b[0m\u001b[0m\n",
      "\u001b[1;31mTypeError\u001b[0m: __init__() missing 3 required positional arguments: 'end_date', 'symbol', and 'contract'"
     ]
    }
   ],
   "source": [
    "data_handler = DataHandler(...)\n",
    "data = data_handler.load()\n",
    "moving_average_test = NaiveMA('rb', data)\n",
    "moving_average_test.calculate_performance()"
   ]
  },
  {
   "cell_type": "code",
   "execution_count": 11,
   "metadata": {},
   "outputs": [],
   "source": [
    "import numpy as np\n",
    "import matplotlib.pyplot as plt"
   ]
  },
  {
   "cell_type": "code",
   "execution_count": 12,
   "metadata": {},
   "outputs": [
    {
     "data": {
      "text/plain": [
       "[<matplotlib.lines.Line2D at 0x118b01410>]"
      ]
     },
     "execution_count": 12,
     "metadata": {},
     "output_type": "execute_result"
    },
    {
     "data": {
      "image/png": "[encoded data removed]",
      "text/plain": [
       "<Figure size 432x288 with 1 Axes>"
      ]
     },
     "metadata": {
      "needs_background": "light"
     },
     "output_type": "display_data"
    }
   ],
   "source": [
    "plt.plot(100*np.random.rand(100))"
   ]
  },
  {
   "cell_type": "markdown",
   "metadata": {},
   "source": [
    "## Event-Driven BackTester"
   ]
  },
  {
   "cell_type": "code",
   "execution_count": 76,
   "metadata": {},
   "outputs": [],
   "source": [
    "import queue\n",
    "import numpy as np"
   ]
  },
  {
   "cell_type": "code",
   "execution_count": 77,
   "metadata": {},
   "outputs": [],
   "source": [
    "number_queue = queue.Queue()"
   ]
  },
  {
   "cell_type": "code",
   "execution_count": 78,
   "metadata": {},
   "outputs": [
    {
     "data": {
      "text/plain": [
       "array([6, 2, 4, 3, 4])"
      ]
     },
     "execution_count": 78,
     "metadata": {},
     "output_type": "execute_result"
    }
   ],
   "source": [
    "random_nums = np.random.randint(1,10,5)\n",
    "random_nums"
   ]
  },
  {
   "cell_type": "code",
   "execution_count": 79,
   "metadata": {},
   "outputs": [
    {
     "name": "stdout",
     "output_type": "stream",
     "text": [
      "6 1\n",
      "2 2\n",
      "4 3\n",
      "3 4\n",
      "4 5\n"
     ]
    }
   ],
   "source": [
    "for num in random_nums:\n",
    "    number_queue.put(num)\n",
    "    print(num, number_queue.qsize())"
   ]
  },
  {
   "cell_type": "code",
   "execution_count": 80,
   "metadata": {},
   "outputs": [
    {
     "name": "stdout",
     "output_type": "stream",
     "text": [
      "6 4\n",
      "2 3\n",
      "4 2\n",
      "3 1\n",
      "4 0\n"
     ]
    }
   ],
   "source": [
    "for _ in range(number_queue.qsize()):\n",
    "    print(number_queue.get(), number_queue.qsize())"
   ]
  },
  {
   "cell_type": "code",
   "execution_count": 81,
   "metadata": {},
   "outputs": [
    {
     "ename": "Empty",
     "evalue": "",
     "output_type": "error",
     "traceback": [
      "\u001b[0;31m---------------------------------------------------------------------------\u001b[0m",
      "\u001b[0;31mEmpty\u001b[0m                                     Traceback (most recent call last)",
      "\u001b[0;32m<ipython-input-81-15cac9982006>\u001b[0m in \u001b[0;36m<module>\u001b[0;34m\u001b[0m\n\u001b[0;32m----> 1\u001b[0;31m \u001b[0mnumber_queue\u001b[0m\u001b[0;34m.\u001b[0m\u001b[0mget\u001b[0m\u001b[0;34m(\u001b[0m\u001b[0;32mFalse\u001b[0m\u001b[0;34m)\u001b[0m\u001b[0;34m\u001b[0m\u001b[0;34m\u001b[0m\u001b[0m\n\u001b[0m",
      "\u001b[0;32m/opt/anaconda3/lib/python3.7/queue.py\u001b[0m in \u001b[0;36mget\u001b[0;34m(self, block, timeout)\u001b[0m\n\u001b[1;32m    165\u001b[0m             \u001b[0;32mif\u001b[0m \u001b[0;32mnot\u001b[0m \u001b[0mblock\u001b[0m\u001b[0;34m:\u001b[0m\u001b[0;34m\u001b[0m\u001b[0;34m\u001b[0m\u001b[0m\n\u001b[1;32m    166\u001b[0m                 \u001b[0;32mif\u001b[0m \u001b[0;32mnot\u001b[0m \u001b[0mself\u001b[0m\u001b[0;34m.\u001b[0m\u001b[0m_qsize\u001b[0m\u001b[0;34m(\u001b[0m\u001b[0;34m)\u001b[0m\u001b[0;34m:\u001b[0m\u001b[0;34m\u001b[0m\u001b[0;34m\u001b[0m\u001b[0m\n\u001b[0;32m--> 167\u001b[0;31m                     \u001b[0;32mraise\u001b[0m \u001b[0mEmpty\u001b[0m\u001b[0;34m\u001b[0m\u001b[0;34m\u001b[0m\u001b[0m\n\u001b[0m\u001b[1;32m    168\u001b[0m             \u001b[0;32melif\u001b[0m \u001b[0mtimeout\u001b[0m \u001b[0;32mis\u001b[0m \u001b[0;32mNone\u001b[0m\u001b[0;34m:\u001b[0m\u001b[0;34m\u001b[0m\u001b[0;34m\u001b[0m\u001b[0m\n\u001b[1;32m    169\u001b[0m                 \u001b[0;32mwhile\u001b[0m \u001b[0;32mnot\u001b[0m \u001b[0mself\u001b[0m\u001b[0;34m.\u001b[0m\u001b[0m_qsize\u001b[0m\u001b[0;34m(\u001b[0m\u001b[0;34m)\u001b[0m\u001b[0;34m:\u001b[0m\u001b[0;34m\u001b[0m\u001b[0;34m\u001b[0m\u001b[0m\n",
      "\u001b[0;31mEmpty\u001b[0m: "
     ]
    }
   ],
   "source": [
    "number_queue.get(False) "
   ]
  },
  {
   "cell_type": "code",
   "execution_count": null,
   "metadata": {},
   "outputs": [],
   "source": []
  }
 ],
 "metadata": {
  "kernelspec": {
   "display_name": "Python 3",
   "language": "python",
   "name": "python3"
  },
  "language_info": {
   "codemirror_mode": {
    "name": "ipython",
    "version": 3
   },
   "file_extension": ".py",
   "mimetype": "text/x-python",
   "name": "python",
   "nbconvert_exporter": "python",
   "pygments_lexer": "ipython3",
   "version": "3.7.3"
  }
 },
 "nbformat": 4,
 "nbformat_minor": 2
}
