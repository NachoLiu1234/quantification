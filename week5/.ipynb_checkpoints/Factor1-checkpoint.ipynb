{
 "cells": [
  {
   "cell_type": "code",
   "execution_count": 1,
   "metadata": {},
   "outputs": [],
   "source": [
    "import os\n",
    "import numpy as np\n",
    "import pandas as pd\n",
    "import matplotlib.pyplot as plt\n",
    "from scipy.linalg import svd\n",
    "from sklearn import linear_model\n",
    "from sklearn.metrics import r2_score"
   ]
  },
  {
   "cell_type": "code",
   "execution_count": 2,
   "metadata": {},
   "outputs": [],
   "source": [
    "feature_dict = {\n",
    "    'next_rtn':'1', # watch look ahead bias\n",
    "    'next_vw_rtn':'2', # watch look ahead bias\n",
    "    'bar_volume':'3',\n",
    "    'rtn':'4',\n",
    "    'mean_rtn_of_prev_5_bar':'5', \n",
    "    'mean_rtn_of_prev_20_bar':'6',\n",
    "    'mean_rtn_of_prev_60_bar':'7', \n",
    "    'prev_bar_volume':'8',\n",
    "    'mean_volume_of_prev_5_bar':'9', \n",
    "    'mean_volume_of_prev_20_bar':'10',\n",
    "    'mean_openinterest_of_prev_5_bar':'11',\n",
    "    'mean_openinterest_of_prev_20_bar':'12',\n",
    "    'bar_turnover':'13',\n",
    "    'prev_bar_turnover':'14',\n",
    "    'prev_rtn': '15',\n",
    "    'mean_turnover_of_prev_5_bar':'16',\n",
    "    'mean_turnover_of_prev_20_bar':'17',\n",
    "    'next_log_rtn':'18'\n",
    "}\n",
    "selected_columns = feature_dict.values()"
   ]
  },
  {
   "cell_type": "code",
   "execution_count": 3,
   "metadata": {
    "scrolled": true
   },
   "outputs": [],
   "source": [
    "data_path = '/mnt/data/data/main/min/rb'\n",
    "files = os.listdir(data_path)\n",
    "data_list = [pd.read_csv(f\"{data_path}/{file}\", compression='gzip') for file in files]"
   ]
  },
  {
   "cell_type": "code",
   "execution_count": 4,
   "metadata": {},
   "outputs": [],
   "source": [
    "df = pd.concat(data_list).set_index('datetime').sort_index()"
   ]
  },
  {
   "cell_type": "markdown",
   "metadata": {},
   "source": [
    "Train develop set split"
   ]
  },
  {
   "cell_type": "code",
   "execution_count": 5,
   "metadata": {},
   "outputs": [],
   "source": [
    "tickers = sorted(set(df.symbol))\n",
    "num_tickers = len(tickers)\n",
    "train_dev_split = int(0.75*num_tickers)\n",
    "train_tickers = tickers[:train_dev_split]\n",
    "dev_tickers = tickers[train_dev_split:]"
   ]
  },
  {
   "cell_type": "code",
   "execution_count": 6,
   "metadata": {},
   "outputs": [],
   "source": [
    "for ticker in train_tickers:\n",
    "    row_indicator = df.symbol == ticker\n",
    "    df.loc[row_indicator,'next_rtn'] = df.loc[row_indicator, 'close'].shift(-1) / df.loc[row_indicator, 'close'] - 1 # note return is the y \n",
    "    df.loc[row_indicator,'next_vw_rtn'] = df.loc[row_indicator,'close_vwp'].shift(-1) / df.loc[row_indicator,'close_vwp'] - 1\n",
    "    df.loc[row_indicator,'rtn'] = df.loc[row_indicator, 'close'].pct_change()\n",
    "    df.loc[row_indicator,'next_log_rtn'] = np.log(df.loc[row_indicator,'close'].shift(-1)) - np.log(df.loc[row_indicator,'close']) \n",
    "    df.loc[row_indicator,'bar_volume'] = df.loc[row_indicator,'volume'] - df.loc[row_indicator,'volume'].shift().fillna(0)\n",
    "    df.loc[row_indicator & df.bar_volume < 0, 'bar_volume'] = df.loc[row_indicator & df.bar_volume < 0, 'volume']\n",
    "    df.loc[row_indicator,'bar_volume'] = df.loc[row_indicator,'bar_volume'] / 2\n",
    "    df.loc[row_indicator,'bar_turnover'] = df.loc[row_indicator,'turnover'] - df.loc[row_indicator,'turnover'].shift().fillna(0)\n",
    "    df.loc[row_indicator & df.bar_turnover < 0, 'bar_turnover'] = df.loc[row_indicator & df.bar_turnover < 0, 'turnover']\n",
    "    df.loc[row_indicator,'prev_bar_volume'] = df.loc[row_indicator, 'bar_volume'].shift()\n",
    "    df.loc[row_indicator,'mean_rtn_of_prev_5_bar'] = df.loc[row_indicator, 'rtn'].rolling(5, win_type=None).mean()\n",
    "    df.loc[row_indicator,'mean_rtn_of_prev_20_bar'] = df.loc[row_indicator, 'rtn'].rolling(20, win_type=None).mean()\n",
    "    df.loc[row_indicator,'mean_rtn_of_prev_60_bar'] = df.loc[row_indicator, 'rtn'].rolling(60, win_type=None).mean()\n",
    "    df.loc[row_indicator,'mean_volume_of_prev_5_bar'] = df.loc[row_indicator, 'bar_volume'].rolling(5, win_type=None).mean()\n",
    "    df.loc[row_indicator,'mean_volume_of_prev_20_bar'] = df.loc[row_indicator, 'bar_volume'].rolling(20, win_type=None).mean()\n",
    "    df.loc[row_indicator,'mean_openinterest_of_prev_5_bar'] = df.loc[row_indicator, 'open_interest'].rolling(5, win_type=None).mean()\n",
    "    df.loc[row_indicator,'mean_openinterest_of_prev_20_bar'] = df.loc[row_indicator, 'open_interest'].rolling(20, win_type=None).mean()\n",
    "    df.loc[row_indicator,'prev_bar_turnover'] = df.loc[row_indicator,'bar_turnover'].shift()\n",
    "    df.loc[row_indicator,'mean_turnover_of_prev_5_bar'] = df.loc[row_indicator,'bar_turnover'].rolling(5, win_type=None).mean()\n",
    "    df.loc[row_indicator,'mean_turnover_of_prev_20_bar'] = df.loc[row_indicator,'bar_turnover'].rolling(20, win_type=None).mean()\n",
    "    df.loc[row_indicator,'prev_rtn'] = df.loc[row_indicator, 'rtn'].shift()\n"
   ]
  },
  {
   "cell_type": "code",
   "execution_count": 7,
   "metadata": {},
   "outputs": [
    {
     "data": {
      "text/plain": [
       "Index(['open', 'high', 'low', 'close', 'symbol', 'prev_settle', 'prev_close',\n",
       "       'prev_open_interest', 'day_open', 'day_high', 'day_low', 'volume',\n",
       "       'turnover', 'open_interest', 'limit_up', 'limit_down',\n",
       "       'open_bid_price1', 'open_bid_volume1', 'close_bid_price1',\n",
       "       'close_bid_volume1', 'open_ask_price1', 'open_ask_volume1',\n",
       "       'close_ask_price1', 'close_ask_volume1', 'high_bid_price1',\n",
       "       'high_ask_price1', 'low_bid_price1', 'low_ask_price1', 'open_vwp',\n",
       "       'close_vwp', '1', '2', '4', '18', '3', '13', '8', '5', '6', '7', '9',\n",
       "       '10', '11', '12', '14', '16', '17', '15'],\n",
       "      dtype='object')"
      ]
     },
     "execution_count": 7,
     "metadata": {},
     "output_type": "execute_result"
    }
   ],
   "source": [
    "df = df.rename(columns=feature_dict)\n",
    "df.columns"
   ]
  },
  {
   "cell_type": "markdown",
   "metadata": {},
   "source": [
    "normalize features before PCA"
   ]
  },
  {
   "cell_type": "code",
   "execution_count": 507,
   "metadata": {},
   "outputs": [],
   "source": [
    "features = ['4', '5', '6', '7', '8', '9', '10', '11', '12', '13', '14', '15', '16', '17']\n",
    "data = df.loc[df.symbol == 'rb1410', features].dropna()"
   ]
  },
  {
   "cell_type": "markdown",
   "metadata": {},
   "source": [
    "run PCA"
   ]
  },
  {
   "cell_type": "code",
   "execution_count": 508,
   "metadata": {},
   "outputs": [],
   "source": [
    "def get_svd_cutoff(s):\n",
    "    sum_s = s.sum()\n",
    "    for i in range(1,len(s)+1):\n",
    "        if np.sum(s[:i]) / sum_s > 0.9:\n",
    "            return i\n",
    "\n",
    "def run_PCA(X):\n",
    "    X = X - X.mean(0)\n",
    "    X = X / np.std(X, axis=0)\n",
    "    [U, s, _] = svd(np.dot(X.transpose(), X)/ np.shape(X)[0])\n",
    "    idx = get_svd_cutoff(s)\n",
    "    U_reduce = U[:,1:idx]\n",
    "    X = np.dot(X, U_reduce)\n",
    "    return X"
   ]
  },
  {
   "cell_type": "markdown",
   "metadata": {},
   "source": [
    "Feature analysis"
   ]
  },
  {
   "cell_type": "code",
   "execution_count": 9,
   "metadata": {
    "scrolled": false
   },
   "outputs": [],
   "source": [
    "features = ['4', '5', '6', '7', '8', '9', '10', '11', '12', '13', '14', '15', '16', '17']\n",
    "feature_names = dict()\n",
    "for k, v in feature_dict.items():\n",
    "    if v in features:\n",
    "        feature_names[v] = k\n",
    "predict_col = \"1\"\n",
    "predict_col2 = \"2\"\n",
    "mean_score_list = list()\n",
    "mean_score_list2 = list()\n",
    "for x in features:\n",
    "    score_list = list()\n",
    "    score_list2 = list()\n",
    "    all_cols = [x, predict_col, predict_col2]\n",
    "    for ticker in train_tickers:\n",
    "        row_indicator = df.symbol == ticker\n",
    "        data = df.loc[row_indicator,all_cols].dropna()\n",
    "        X = data[x].values\n",
    "        Y1 = data[predict_col].values # close return\n",
    "        Y2 = data[predict_col2].values # log return\n",
    "        score_list.append(np.corrcoef(X,Y1)[0,1])\n",
    "        score_list2.append(np.corrcoef(X,Y2)[0,1]) \n",
    "    mean_score_list.append(np.mean(score_list))\n",
    "    mean_score_list2.append(np.mean(score_list2))\n",
    "    "
   ]
  },
  {
   "cell_type": "markdown",
   "metadata": {},
   "source": [
    "Correlation between each feature and future return"
   ]
  },
  {
   "cell_type": "code",
   "execution_count": 10,
   "metadata": {},
   "outputs": [
    {
     "data": {
      "text/plain": [
       "[<matplotlib.lines.Line2D at 0x7f399803d650>]"
      ]
     },
     "execution_count": 10,
     "metadata": {},
     "output_type": "execute_result"
    },
    {
     "data": {
      "image/png": "[encoded data removed]",
      "text/plain": [
       "<Figure size 432x288 with 1 Axes>"
      ]
     },
     "metadata": {
      "needs_background": "light"
     },
     "output_type": "display_data"
    }
   ],
   "source": [
    "plt.plot(features, mean_score_list)\n",
    "plt.plot(features, mean_score_list2)"
   ]
  },
  {
   "cell_type": "code",
   "execution_count": 518,
   "metadata": {},
   "outputs": [
    {
     "name": "stdout",
     "output_type": "stream",
     "text": [
      "[0.023068003086139287, 0.0029331427174858096, 0.010519850059895263, -0.003813682688786222, -0.008151689434390458, -0.0012923408490146972, -0.009917834587777877, -0.00355300895476781, -0.0032886411418596843, 0.004199691417942649, 0.0009658383412275462, 0.0070186339644125045]\n"
     ]
    },
    {
     "data": {
      "image/png": "[encoded data removed]",
      "text/plain": [
       "<Figure size 432x288 with 1 Axes>"
      ]
     },
     "metadata": {
      "needs_background": "light"
     },
     "output_type": "display_data"
    }
   ],
   "source": [
    "import matplotlib.pyplot as plt\n",
    "print(score_list)\n",
    "plt.plot(score_list)\n",
    "plt.plot(score_list2)\n",
    "plt.show()"
   ]
  },
  {
   "cell_type": "markdown",
   "metadata": {},
   "source": [
    "Linear Regression Model"
   ]
  },
  {
   "cell_type": "code",
   "execution_count": 3,
   "metadata": {
    "scrolled": false
   },
   "outputs": [
    {
     "ename": "NameError",
     "evalue": "name 'train_tickers' is not defined",
     "output_type": "error",
     "traceback": [
      "\u001b[0;31m---------------------------------------------------------------------------\u001b[0m",
      "\u001b[0;31mNameError\u001b[0m                                 Traceback (most recent call last)",
      "\u001b[0;32m<ipython-input-3-1ff5751cb058>\u001b[0m in \u001b[0;36m<module>\u001b[0;34m()\u001b[0m\n\u001b[1;32m      5\u001b[0m \u001b[0mall_cols\u001b[0m \u001b[0;34m=\u001b[0m \u001b[0mfeatures\u001b[0m \u001b[0;34m+\u001b[0m \u001b[0;34m[\u001b[0m\u001b[0mpredict_col\u001b[0m\u001b[0;34m,\u001b[0m \u001b[0mpredict_col2\u001b[0m\u001b[0;34m]\u001b[0m\u001b[0;34m\u001b[0m\u001b[0;34m\u001b[0m\u001b[0m\n\u001b[1;32m      6\u001b[0m \u001b[0mr_squared_list2\u001b[0m \u001b[0;34m=\u001b[0m \u001b[0mlist\u001b[0m\u001b[0;34m(\u001b[0m\u001b[0;34m)\u001b[0m\u001b[0;34m\u001b[0m\u001b[0;34m\u001b[0m\u001b[0m\n\u001b[0;32m----> 7\u001b[0;31m \u001b[0;32mfor\u001b[0m \u001b[0mticker\u001b[0m \u001b[0;32min\u001b[0m \u001b[0mtrain_tickers\u001b[0m\u001b[0;34m:\u001b[0m\u001b[0;34m\u001b[0m\u001b[0;34m\u001b[0m\u001b[0m\n\u001b[0m\u001b[1;32m      8\u001b[0m     \u001b[0mrow_indicator\u001b[0m \u001b[0;34m=\u001b[0m \u001b[0mdf\u001b[0m\u001b[0;34m.\u001b[0m\u001b[0msymbol\u001b[0m \u001b[0;34m==\u001b[0m \u001b[0mticker\u001b[0m\u001b[0;34m\u001b[0m\u001b[0;34m\u001b[0m\u001b[0m\n\u001b[1;32m      9\u001b[0m     \u001b[0mdata\u001b[0m \u001b[0;34m=\u001b[0m \u001b[0mdf\u001b[0m\u001b[0;34m.\u001b[0m\u001b[0mloc\u001b[0m\u001b[0;34m[\u001b[0m\u001b[0mrow_indicator\u001b[0m\u001b[0;34m,\u001b[0m\u001b[0mall_cols\u001b[0m\u001b[0;34m]\u001b[0m\u001b[0;34m.\u001b[0m\u001b[0mdropna\u001b[0m\u001b[0;34m(\u001b[0m\u001b[0;34m)\u001b[0m\u001b[0;34m\u001b[0m\u001b[0;34m\u001b[0m\u001b[0m\n",
      "\u001b[0;31mNameError\u001b[0m: name 'train_tickers' is not defined"
     ]
    }
   ],
   "source": [
    "reg = linear_model.LinearRegression()\n",
    "features = ['4', '5', '6', '7', '8', '9', '10', '11', '12', '13', '14', '15', '16', '17']\n",
    "predict_col = \"1\"\n",
    "predict_col2 = \"2\"\n",
    "all_cols = features + [predict_col, predict_col2] \n",
    "r_squared_list2 = list()\n",
    "for ticker in train_tickers:\n",
    "    row_indicator = df.symbol == ticker\n",
    "    data = df.loc[row_indicator,all_cols].dropna()\n",
    "    X = data[features].values\n",
    "    X = run_PCA(X)\n",
    "    Y1 = data[predict_col].values # close return\n",
    "    Y2 = data[predict_col2].values # log return\n",
    "    reg.fit(X,Y1)\n",
    "    Y_hat = reg.predict(X)\n",
    "    r_squared = 1 - sum((Y1-Y_hat)**2) / sum((Y1-np.mean(Y1))**2)\n",
    "    r_squared_list2.append(r_squared)"
   ]
  },
  {
   "cell_type": "markdown",
   "metadata": {},
   "source": [
    "Raw data no PCA"
   ]
  },
  {
   "cell_type": "code",
   "execution_count": 519,
   "metadata": {},
   "outputs": [
    {
     "data": {
      "text/plain": [
       "[<matplotlib.lines.Line2D at 0x7fdfb7a4a3d0>]"
      ]
     },
     "execution_count": 519,
     "metadata": {},
     "output_type": "execute_result"
    },
    {
     "data": {
      "image/png": "[encoded data removed]",
      "text/plain": [
       "<Figure size 432x288 with 1 Axes>"
      ]
     },
     "metadata": {
      "needs_background": "light"
     },
     "output_type": "display_data"
    }
   ],
   "source": [
    "plt.plot(train_tickers,r_squared_list)"
   ]
  },
  {
   "cell_type": "markdown",
   "metadata": {},
   "source": [
    "With PCA"
   ]
  },
  {
   "cell_type": "code",
   "execution_count": 516,
   "metadata": {},
   "outputs": [
    {
     "data": {
      "text/plain": [
       "[<matplotlib.lines.Line2D at 0x7fdfb653dfd0>]"
      ]
     },
     "execution_count": 516,
     "metadata": {},
     "output_type": "execute_result"
    },
    {
     "data": {
      "image/png": "[encoded data removed]",
      "text/plain": [
       "<Figure size 432x288 with 1 Axes>"
      ]
     },
     "metadata": {
      "needs_background": "light"
     },
     "output_type": "display_data"
    }
   ],
   "source": [
    "plt.plot(train_tickers,r_squared_list2)\n"
   ]
  },
  {
   "cell_type": "code",
   "execution_count": 99,
   "metadata": {},
   "outputs": [],
   "source": [
    "from sklearn.linear_model import LinearRegression"
   ]
  },
  {
   "cell_type": "code",
   "execution_count": 116,
   "metadata": {},
   "outputs": [],
   "source": [
    "reg2 = LinearRegression().fit(X,Y2)"
   ]
  },
  {
   "cell_type": "code",
   "execution_count": 117,
   "metadata": {},
   "outputs": [
    {
     "name": "stdout",
     "output_type": "stream",
     "text": [
      "0.009070107377106895 0.003553364436843065\n"
     ]
    }
   ],
   "source": [
    "print(reg.score(X,Y1), reg2.score(X,Y2))"
   ]
  },
  {
   "cell_type": "code",
   "execution_count": 119,
   "metadata": {},
   "outputs": [
    {
     "data": {
      "text/plain": [
       "array([ 9.68458234e-12, -1.00303406e-01,  3.60504240e-02, -2.34727854e-02,\n",
       "       -1.07255987e-10, -5.32977944e-10, -2.13972279e-10,  1.85524319e-10,\n",
       "       -1.83208534e-10, -2.15851181e-16,  2.48179679e-15, -5.67580008e-03,\n",
       "        9.44809626e-15,  3.53713024e-15])"
      ]
     },
     "execution_count": 119,
     "metadata": {},
     "output_type": "execute_result"
    }
   ],
   "source": [
    "reg.coef_"
   ]
  },
  {
   "cell_type": "code",
   "execution_count": 118,
   "metadata": {},
   "outputs": [
    {
     "data": {
      "text/plain": [
       "array([-3.28851277e-11, -6.27276648e-02,  3.62733517e-02, -2.62810081e-02,\n",
       "       -1.07940972e-10, -5.14487253e-10, -1.95677069e-10,  1.94575281e-10,\n",
       "       -1.92345966e-10,  4.75846137e-16,  2.44352866e-15, -1.87515022e-03,\n",
       "        9.21709486e-15,  3.29014857e-15])"
      ]
     },
     "execution_count": 118,
     "metadata": {},
     "output_type": "execute_result"
    }
   ],
   "source": [
    "reg2.coef_"
   ]
  },
  {
   "cell_type": "code",
   "execution_count": 1,
   "metadata": {},
   "outputs": [
    {
     "ename": "NameError",
     "evalue": "name 'linear_model' is not defined",
     "output_type": "error",
     "traceback": [
      "\u001b[0;31m---------------------------------------------------------------------------\u001b[0m",
      "\u001b[0;31mNameError\u001b[0m                                 Traceback (most recent call last)",
      "\u001b[0;32m<ipython-input-1-5eb9b7977ea7>\u001b[0m in \u001b[0;36m<module>\u001b[0;34m()\u001b[0m\n\u001b[0;32m----> 1\u001b[0;31m \u001b[0mreg\u001b[0m \u001b[0;34m=\u001b[0m \u001b[0mlinear_model\u001b[0m\u001b[0;34m.\u001b[0m\u001b[0mRidge\u001b[0m\u001b[0;34m(\u001b[0m\u001b[0malpha\u001b[0m\u001b[0;34m=\u001b[0m\u001b[0;36m1.0\u001b[0m\u001b[0;34m)\u001b[0m\u001b[0;34m\u001b[0m\u001b[0;34m\u001b[0m\u001b[0m\n\u001b[0m\u001b[1;32m      2\u001b[0m \u001b[0mfeatures\u001b[0m \u001b[0;34m=\u001b[0m \u001b[0;34m[\u001b[0m\u001b[0;34m'4'\u001b[0m\u001b[0;34m,\u001b[0m \u001b[0;34m'5'\u001b[0m\u001b[0;34m,\u001b[0m \u001b[0;34m'6'\u001b[0m\u001b[0;34m,\u001b[0m \u001b[0;34m'7'\u001b[0m\u001b[0;34m,\u001b[0m \u001b[0;34m'8'\u001b[0m\u001b[0;34m,\u001b[0m \u001b[0;34m'9'\u001b[0m\u001b[0;34m,\u001b[0m \u001b[0;34m'10'\u001b[0m\u001b[0;34m,\u001b[0m \u001b[0;34m'11'\u001b[0m\u001b[0;34m,\u001b[0m \u001b[0;34m'12'\u001b[0m\u001b[0;34m,\u001b[0m \u001b[0;34m'13'\u001b[0m\u001b[0;34m,\u001b[0m \u001b[0;34m'14'\u001b[0m\u001b[0;34m,\u001b[0m \u001b[0;34m'15'\u001b[0m\u001b[0;34m,\u001b[0m \u001b[0;34m'16'\u001b[0m\u001b[0;34m,\u001b[0m \u001b[0;34m'17'\u001b[0m\u001b[0;34m]\u001b[0m\u001b[0;34m\u001b[0m\u001b[0;34m\u001b[0m\u001b[0m\n\u001b[1;32m      3\u001b[0m \u001b[0mpredict_col\u001b[0m \u001b[0;34m=\u001b[0m \u001b[0;34m\"1\"\u001b[0m\u001b[0;34m\u001b[0m\u001b[0;34m\u001b[0m\u001b[0m\n\u001b[1;32m      4\u001b[0m \u001b[0mpredict_col2\u001b[0m \u001b[0;34m=\u001b[0m \u001b[0;34m\"2\"\u001b[0m\u001b[0;34m\u001b[0m\u001b[0;34m\u001b[0m\u001b[0m\n\u001b[1;32m      5\u001b[0m \u001b[0mall_cols\u001b[0m \u001b[0;34m=\u001b[0m \u001b[0mfeatures\u001b[0m \u001b[0;34m+\u001b[0m \u001b[0;34m[\u001b[0m\u001b[0mpredict_col\u001b[0m\u001b[0;34m,\u001b[0m \u001b[0mpredict_col2\u001b[0m\u001b[0;34m]\u001b[0m\u001b[0;34m\u001b[0m\u001b[0;34m\u001b[0m\u001b[0m\n",
      "\u001b[0;31mNameError\u001b[0m: name 'linear_model' is not defined"
     ]
    }
   ],
   "source": [
    "reg = linear_model.Ridge(alpha=1.0)\n",
    "features = ['4', '5', '6', '7', '8', '9', '10', '11', '12', '13', '14', '15', '16', '17']\n",
    "predict_col = \"1\"\n",
    "predict_col2 = \"2\"\n",
    "all_cols = features + [predict_col, predict_col2] \n",
    "r_squared_list = list()\n",
    "for ticker in train_tickers:\n",
    "    row_indicator = df.symbol == ticker\n",
    "    data = df.loc[row_indicator,all_cols].dropna()\n",
    "    X = data[features].values\n",
    "    X = run_PCA(X)\n",
    "    Y1 = data[predict_col].values # close return\n",
    "    Y2 = data[predict_col2].values # log return\n",
    "    reg.fit(X,Y1)\n",
    "    Y_hat = reg.predict(X)\n",
    "    r_squared = 1 - sum((Y1-Y_hat)**2) / sum((Y1-np.mean(Y1))**2)\n",
    "    r_squared_list.append(r_squared)"
   ]
  },
  {
   "cell_type": "code",
   "execution_count": null,
   "metadata": {},
   "outputs": [],
   "source": []
  }
 ],
 "metadata": {
  "kernelspec": {
   "display_name": "Python 3",
   "language": "python",
   "name": "python3"
  },
  "language_info": {
   "codemirror_mode": {
    "name": "ipython",
    "version": 3
   },
   "file_extension": ".py",
   "mimetype": "text/x-python",
   "name": "python",
   "nbconvert_exporter": "python",
   "pygments_lexer": "ipython3",
   "version": "3.6.8"
  }
 },
 "nbformat": 4,
 "nbformat_minor": 2
}
